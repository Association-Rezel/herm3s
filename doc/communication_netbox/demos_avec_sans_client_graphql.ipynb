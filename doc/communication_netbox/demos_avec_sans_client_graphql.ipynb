{
 "cells": [
  {
   "cell_type": "markdown",
   "metadata": {},
   "source": [
    "# Proof of Concept : communication avec Netbox\n",
    "\n",
    "Voici deux versions de la communication avec Netbox :\n",
    "1. une version sans client, uniquement avec des requetes http et des requetes construites à la main\n",
    "2. (RECOMMANDEE) une version avec le client sgqlc (simple graphQL client) qui prend en charge les requetes http et la constrution de la query à partir de classes Python\n",
    "\n",
    "Les requêtes exemples cherchent à récupérer des informations sur les box définies dans le netbox de dev (il n'y en à qu'une seule à l'heure de l'écriture)\n",
    "\n",
    "## Version 1 : sans Client GraphQl\n",
    "\n",
    "Doc de présentation de grahphql: https://demo.netbox.dev/static/docs/graphql-api/overview/\n",
    "\n",
    "Importation modules et définition token (Dans Netbox/Admin/Authentification/API Tokens)"
   ]
  },
  {
   "cell_type": "code",
   "execution_count": 2,
   "metadata": {},
   "outputs": [],
   "source": [
    "import requests\n",
    "import json #pour avoir un affichage plus lisible\n",
    "\n",
    "token_netbox = \"91a0e80dd5c290ba0d7f7d070a9f3fd80a61e6ea\"\n",
    "\n",
    "headers = {\n",
    "    'Authorization': 'Token ' + token_netbox,\n",
    "    'Accept': 'application/json',\n",
    "}\n",
    "\n",
    "\n",
    "url = 'http://netbox.dev.fai.rezel.net/graphql/'"
   ]
  },
  {
   "cell_type": "markdown",
   "metadata": {},
   "source": [
    "Ici on détermine quelles informations demander à Netbox\n",
    "\n",
    "On peut directement tester la formation d'une requete depuis l'UI web de netbox en cliquant sur GraphQl API en bas de la page, ce qui amène vers une UI (GraphiQL) pour tester les queries)\n",
    "\n",
    "Il est possible d'ajouter des arguments aux queries (pour ajouter des filtres sur les données qu'on récupère)"
   ]
  },
  {
   "cell_type": "code",
   "execution_count": 3,
   "metadata": {},
   "outputs": [],
   "source": [
    "query_content = \\\n",
    "'{ \\\n",
    "  device_list(role: \"box\") { \\\n",
    "    name\\\n",
    "    site {\\\n",
    "      id\\\n",
    "    }\\\n",
    "    rack {\\\n",
    "      id\\\n",
    "    }\\\n",
    "    primary_ip4 {\\\n",
    "      id\\\n",
    "    }\\\n",
    "    primary_ip6 {\\\n",
    "      id\\\n",
    "    }\\\n",
    "  }\\\n",
    "}'\n",
    "\n",
    "json_data = {\n",
    "    'query': 'query '+query_content,\n",
    "}\n"
   ]
  },
  {
   "cell_type": "markdown",
   "metadata": {},
   "source": [
    "Execution de la requete et affichage"
   ]
  },
  {
   "cell_type": "code",
   "execution_count": 4,
   "metadata": {},
   "outputs": [],
   "source": [
    "response = requests.post(url=url, headers=headers, json=json_data)"
   ]
  },
  {
   "cell_type": "code",
   "execution_count": 5,
   "metadata": {},
   "outputs": [
    {
     "name": "stdout",
     "output_type": "stream",
     "text": [
      "{\n",
      "    \"data\": {\n",
      "        \"device_list\": [\n",
      "            {\n",
      "                \"name\": \"BOX KLEY-550\",\n",
      "                \"site\": {\n",
      "                    \"id\": \"4\"\n",
      "                },\n",
      "                \"rack\": {\n",
      "                    \"id\": \"16\"\n",
      "                },\n",
      "                \"primary_ip4\": null,\n",
      "                \"primary_ip6\": null\n",
      "            }\n",
      "        ]\n",
      "    }\n",
      "}\n"
     ]
    }
   ],
   "source": [
    "json_data = response.json()\n",
    "print(json.dumps(json_data, indent=4))"
   ]
  },
  {
   "cell_type": "markdown",
   "metadata": {},
   "source": [
    "## Version 2 : Avec un GraphQL Client : sgqlc"
   ]
  },
  {
   "cell_type": "markdown",
   "metadata": {},
   "source": [
    "Importation modules (dont le client [sggqlc](https://github.com/profusion/sgqlc)), définition constantes.\n",
    "On crée un nouvel objet Endpoint qu'on utilisera pour faire nos requêtes"
   ]
  },
  {
   "cell_type": "code",
   "execution_count": 5,
   "metadata": {},
   "outputs": [],
   "source": [
    "# sgqlc = simple graphql client\n",
    "from sgqlc.endpoint.http import HTTPEndpoint\n",
    "from sgqlc.types import Type, Field, list_of\n",
    "from sgqlc.operation import Operation\n",
    "import re #pour transformer les noms de champs de camelCase en snake_case\n",
    "\n",
    "url = \"http://netbox.dev.fai.rezel.net/graphql/\"\n",
    "token_netbox = \"91a0e80dd5c290ba0d7f7d070a9f3fd80a61e6ea\"\n",
    "headers = {\n",
    "    'Authorization': 'Token ' + token_netbox,\n",
    "    'Accept': 'application/json',\n",
    "}\n",
    "\n",
    "def camel_to_snake(string : str):\n",
    "    \"\"\"Convertit une chaine de caractère de camelCase en snake_case\"\"\"\n",
    "    pattern = re.compile(r'(?<!^)(?=[A-Z])')\n",
    "    return pattern.sub('_', string).lower()\n",
    "\n",
    "endpoint = HTTPEndpoint(url, headers)"
   ]
  },
  {
   "cell_type": "markdown",
   "metadata": {},
   "source": [
    "On définit avec des classes la structure du Schéma de base de données de Netbox (avantage : typage statique & plus facile à lire et à comprendre)"
   ]
  },
  {
   "cell_type": "code",
   "execution_count": 6,
   "metadata": {},
   "outputs": [],
   "source": [
    "class IpAddressType(Type):\n",
    "    id = int\n",
    "    address = str\n",
    "\n",
    "class Site(Type):\n",
    "    id = int\n",
    "    name = str\n",
    "\n",
    "class Rack(Type):\n",
    "    id = int\n",
    "    name = str\n",
    "\n",
    "class Device(Type):\n",
    "    id = int\n",
    "    name = str\n",
    "    site = Field(Site)\n",
    "    rack = Field(Rack)\n",
    "    primary_ip4 = Field(IpAddressType)\n",
    "    primary_ip6 = Field(IpAddressType)\n",
    "\n",
    "class Query(Type):\n",
    "    device_list = Field(list_of('Device'), args={'role': str})"
   ]
  },
  {
   "cell_type": "markdown",
   "metadata": {},
   "source": [
    "Contruction de la query (on choisit quels champs requeter)"
   ]
  },
  {
   "cell_type": "code",
   "execution_count": 8,
   "metadata": {},
   "outputs": [
    {
     "name": "stdout",
     "output_type": "stream",
     "text": [
      "query {\n",
      "  device_list(role: \"box\") {\n",
      "    id\n",
      "    name\n",
      "    site {\n",
      "      id\n",
      "      name\n",
      "    }\n",
      "    primary_ip4 {\n",
      "      id\n",
      "      address\n",
      "    }\n",
      "    primary_ip6 {\n",
      "      id\n",
      "      address\n",
      "    }\n",
      "  }\n",
      "}\n"
     ]
    }
   ],
   "source": [
    "op = Operation(Query)\n",
    "devices = op.device_list(role='box')\n",
    "devices.id()\n",
    "devices.name()\n",
    "devices.site()\n",
    "# devices.rack()  # ici on ne récupère pas les informations sur le rack\n",
    "devices.primary_ip4()\n",
    "devices.primary_ip6()\n",
    "\n",
    "#on est obligé ne snakifier la query car par défaut elle est en camelCase\n",
    "snakified_query = camel_to_snake(str(op)) \n",
    "print(snakified_query)"
   ]
  },
  {
   "cell_type": "markdown",
   "metadata": {},
   "source": [
    "On tape finalement l'API netbox avec notre query puis on l'affiche"
   ]
  },
  {
   "cell_type": "code",
   "execution_count": 11,
   "metadata": {},
   "outputs": [
    {
     "name": "stdout",
     "output_type": "stream",
     "text": [
      "{\n",
      "    \"data\": {\n",
      "        \"device_list\": [\n",
      "            {\n",
      "                \"id\": \"116\",\n",
      "                \"name\": \"BOX KLEY-550\",\n",
      "                \"site\": {\n",
      "                    \"id\": \"4\",\n",
      "                    \"name\": \"kley\"\n",
      "                },\n",
      "                \"primary_ip4\": null,\n",
      "                \"primary_ip6\": null\n",
      "            }\n",
      "        ]\n",
      "    }\n",
      "}\n"
     ]
    }
   ],
   "source": [
    "data = endpoint(snakified_query)\n",
    "print(json.dumps(data, indent=4))"
   ]
  }
 ],
 "metadata": {
  "kernelspec": {
   "display_name": "base",
   "language": "python",
   "name": "python3"
  },
  "language_info": {
   "codemirror_mode": {
    "name": "ipython",
    "version": 3
   },
   "file_extension": ".py",
   "mimetype": "text/x-python",
   "name": "python",
   "nbconvert_exporter": "python",
   "pygments_lexer": "ipython3",
   "version": "3.10.9"
  }
 },
 "nbformat": 4,
 "nbformat_minor": 2
}
